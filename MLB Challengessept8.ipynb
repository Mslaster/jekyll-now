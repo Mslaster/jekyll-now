{
 "cells": [
  {
   "cell_type": "markdown",
   "metadata": {
    "collapsed": false
   },
   "source": [
    "# Predicting Optimal Challenge Usage"
   ]
  },
  {
   "cell_type": "markdown",
   "metadata": {},
   "source": [
    "# Part I Modeling Expected Payoff of Successful Challenge"
   ]
  },
  {
   "cell_type": "code",
   "execution_count": 1,
   "metadata": {
    "collapsed": true
   },
   "outputs": [],
   "source": [
    "import pandas as pd"
   ]
  },
  {
   "cell_type": "code",
   "execution_count": 2,
   "metadata": {
    "collapsed": true
   },
   "outputs": [],
   "source": [
    "win_exp_table=pd.read_csv('WinExp/BigTable-Table 1.csv')"
   ]
  },
  {
   "cell_type": "code",
   "execution_count": 3,
   "metadata": {
    "collapsed": true
   },
   "outputs": [],
   "source": [
    "#function takes inning, half, runner on each base, out, run difference and outputs win prob\n",
    "#call it twice to see result of challenge\n",
    "def win_exp(inning,half,first,second,third,outs,run_dif):\n",
    "    sit=int(str(first)+str(second)+str(third),2)+1\n",
    "    sit_code=str(inning)+str(half)+str(sit)+str(outs)\n",
    "    return float(win_exp_table[win_exp_table.InnBaseOut==int(sit_code)][str(run_dif)].tolist()[0].strip('%'))/100"
   ]
  },
  {
   "cell_type": "markdown",
   "metadata": {},
   "source": [
    "# Part II Modeling probability of success of challenge"
   ]
  },
  {
   "cell_type": "code",
   "execution_count": 4,
   "metadata": {
    "collapsed": true
   },
   "outputs": [],
   "source": [
    "from bs4 import BeautifulSoup\n",
    "import requests\n",
    "import numpy as np\n",
    "import matplotlib.pyplot as plt\n",
    "%matplotlib inline"
   ]
  },
  {
   "cell_type": "code",
   "execution_count": 5,
   "metadata": {
    "collapsed": false
   },
   "outputs": [],
   "source": [
    "#scrape all replays from 2014 season from mlb.com\n",
    "mlb14=requests.get('https://baseballsavant.mlb.com/replay?challenge_type=&year=2014&challenger=teamchallenging&team=')"
   ]
  },
  {
   "cell_type": "code",
   "execution_count": 6,
   "metadata": {
    "collapsed": true
   },
   "outputs": [],
   "source": [
    "#ditto for 15\n",
    "mlb15=requests.get('https://baseballsavant.mlb.com/replay?challenge_type=&year=2015&challenger=teamchallenging&team=')"
   ]
  },
  {
   "cell_type": "code",
   "execution_count": 7,
   "metadata": {
    "collapsed": true
   },
   "outputs": [],
   "source": [
    "#ditto for 16\n",
    "mlb16=requests.get('https://baseballsavant.mlb.com/replay?challenge_type=&year=2016&challenger=teamchallenging&team=')"
   ]
  },
  {
   "cell_type": "code",
   "execution_count": 8,
   "metadata": {
    "collapsed": false
   },
   "outputs": [
    {
     "name": "stderr",
     "output_type": "stream",
     "text": [
      "/Users/moshelaster/anaconda/lib/python2.7/site-packages/bs4/__init__.py:166: UserWarning: No parser was explicitly specified, so I'm using the best available HTML parser for this system (\"lxml\"). This usually isn't a problem, but if you run this code on another system, or in a different virtual environment, it may use a different parser and behave differently.\n",
      "\n",
      "To get rid of this warning, change this:\n",
      "\n",
      " BeautifulSoup([your markup])\n",
      "\n",
      "to this:\n",
      "\n",
      " BeautifulSoup([your markup], \"lxml\")\n",
      "\n",
      "  markup_type=markup_type))\n"
     ]
    }
   ],
   "source": [
    "#format\n",
    "data=[BeautifulSoup(season.text) for season in [mlb14,mlb15,mlb16]]"
   ]
  },
  {
   "cell_type": "code",
   "execution_count": 9,
   "metadata": {
    "collapsed": true
   },
   "outputs": [],
   "source": [
    "#initialize lists to put data into\n",
    "num=[]\n",
    "date=[]\n",
    "teams=[]\n",
    "challenger=[]\n",
    "play_type=[]\n",
    "overturned=[]\n",
    "pitcher=[]\n",
    "batter=[]\n",
    "inning=[]\n",
    "description=[]"
   ]
  },
  {
   "cell_type": "code",
   "execution_count": 10,
   "metadata": {
    "collapsed": false
   },
   "outputs": [],
   "source": [
    "#iterate through data to place on lists\n",
    "for season in data:\n",
    "    for event in season.table.findAll('tr')[1::2]:\n",
    "        num.append(event.findAll('td')[0].text)\n",
    "        date.append(event.findAll('td')[1].text)\n",
    "        teams.append(event.findAll('td')[2].text)\n",
    "        challenger.append(event.findAll('td')[3].text)\n",
    "        play_type.append(event.findAll('td')[4].text)\n",
    "        overturned.append(event.findAll('td')[5].text)\n",
    "        pitcher.append(event.findAll('td')[6].text)\n",
    "        batter.append(event.findAll('td')[7].text)\n",
    "        inning.append(event.findAll('td')[8].text)\n",
    "\n",
    "    for event in season.table.findAll('tr')[2::2]:\n",
    "        description.append(event.text)       \n",
    "        \n",
    "        \n",
    "    "
   ]
  },
  {
   "cell_type": "code",
   "execution_count": 11,
   "metadata": {
    "collapsed": true
   },
   "outputs": [],
   "source": [
    "#create column names\n",
    "titles=['num',\n",
    "'date',\n",
    "'teams',\n",
    "'challenger',\n",
    "'play_type',\n",
    "'overturned',\n",
    "'pitcher',\n",
    "'batter',\n",
    "'inning',\n",
    "'description']"
   ]
  },
  {
   "cell_type": "code",
   "execution_count": 12,
   "metadata": {
    "collapsed": false
   },
   "outputs": [],
   "source": [
    "#reformat and put into df\n",
    "challenges=pd.DataFrame(np.matrix([num,\n",
    "date,\n",
    "teams,\n",
    "challenger,\n",
    "play_type,\n",
    "overturned,\n",
    "pitcher,\n",
    "batter,\n",
    "inning,description]).T,columns=titles)"
   ]
  },
  {
   "cell_type": "code",
   "execution_count": 13,
   "metadata": {
    "collapsed": false
   },
   "outputs": [],
   "source": [
    "#make inning into int\n",
    "challenges['inning']=pd.to_numeric(challenges['inning'])"
   ]
  },
  {
   "cell_type": "code",
   "execution_count": 14,
   "metadata": {
    "collapsed": false
   },
   "outputs": [],
   "source": [
    "#read in text from retrosheet, copied and pasted from http://retrosheet.org/Replay2016.htm and saved locally\n",
    "ump_stats_head=open('mlbreplay.txt').read().split('\\n')[0] #the header\n",
    "ump_stats=open('mlbreplay.txt').read().split('\\n')[1:] #the rest of the data"
   ]
  },
  {
   "cell_type": "code",
   "execution_count": 15,
   "metadata": {
    "collapsed": false
   },
   "outputs": [],
   "source": [
    "#wasn't formatted nicely to read in, so figured out spacing through guesswork \n",
    "#between each heading to impute the spacing in subsequent data\n",
    "#inds are simply the indexes that precede a new column\n",
    "inds=[10,14,18,21,45,65,87,99] "
   ]
  },
  {
   "cell_type": "code",
   "execution_count": 16,
   "metadata": {
    "collapsed": false
   },
   "outputs": [],
   "source": [
    "#copied over header, but inserted commas bf new column\n",
    "ump_stats_head_fixed=''\n",
    "for num,char in enumerate(ump_stats_head):\n",
    "    if num in inds:\n",
    "        ump_stats_head_fixed+=','\n",
    "    else:\n",
    "        ump_stats_head_fixed+=char"
   ]
  },
  {
   "cell_type": "code",
   "execution_count": 17,
   "metadata": {
    "collapsed": false
   },
   "outputs": [],
   "source": [
    "#split and stripped each column title\n",
    "ump_stats_head_fixed=[word.rstrip() for word in ump_stats_head_fixed.split(',')]"
   ]
  },
  {
   "cell_type": "code",
   "execution_count": 18,
   "metadata": {
    "collapsed": false
   },
   "outputs": [],
   "source": [
    "#added new column to classify if umpire challenging or manager\n",
    "ump_stats_head_fixed=ump_stats_head_fixed[:4]+['Init_type']+ump_stats_head_fixed[4:]"
   ]
  },
  {
   "cell_type": "code",
   "execution_count": 19,
   "metadata": {
    "collapsed": false
   },
   "outputs": [],
   "source": [
    "#same thing as before except transformed the data into a list of lists of vals\n",
    "ump_stats_fixed=[]\n",
    "for line in ump_stats:\n",
    "    info=''\n",
    "    for num,char in enumerate(line):\n",
    "        if num in inds or num==25:\n",
    "            info+=','\n",
    "        else:\n",
    "            info+=char\n",
    "    ump_stats_fixed.append(map(str.rstrip,info.split(',')))\n"
   ]
  },
  {
   "cell_type": "code",
   "execution_count": 20,
   "metadata": {
    "collapsed": false
   },
   "outputs": [],
   "source": [
    "#read into df\n",
    "ump_table=pd.DataFrame(ump_stats_fixed,columns=ump_stats_head_fixed)"
   ]
  },
  {
   "cell_type": "code",
   "execution_count": 21,
   "metadata": {
    "collapsed": false
   },
   "outputs": [
    {
     "data": {
      "text/html": [
       "<div>\n",
       "<table border=\"1\" class=\"dataframe\">\n",
       "  <thead>\n",
       "    <tr style=\"text-align: right;\">\n",
       "      <th></th>\n",
       "      <th>Date</th>\n",
       "      <th>Tm</th>\n",
       "      <th>Opp</th>\n",
       "      <th>In</th>\n",
       "      <th>Init_type</th>\n",
       "      <th>Initiator</th>\n",
       "      <th>Umpire</th>\n",
       "      <th>Type</th>\n",
       "      <th>Ruling</th>\n",
       "      <th>Time</th>\n",
       "    </tr>\n",
       "  </thead>\n",
       "  <tbody>\n",
       "    <tr>\n",
       "      <th>0</th>\n",
       "      <td>03/31/2014</td>\n",
       "      <td>ATL</td>\n",
       "      <td>MIL</td>\n",
       "      <td>6</td>\n",
       "      <td>Mgr</td>\n",
       "      <td>Fredi Gonzalez</td>\n",
       "      <td>Greg Gibson</td>\n",
       "      <td>Force play</td>\n",
       "      <td>Overturned</td>\n",
       "      <td>1:05</td>\n",
       "    </tr>\n",
       "    <tr>\n",
       "      <th>1</th>\n",
       "      <td>03/31/2014</td>\n",
       "      <td>WAS</td>\n",
       "      <td>NYN</td>\n",
       "      <td>10</td>\n",
       "      <td>Mgr</td>\n",
       "      <td>Matt Williams</td>\n",
       "      <td>Clint Fagan</td>\n",
       "      <td>Force play</td>\n",
       "      <td>Confirmed</td>\n",
       "      <td>1:44</td>\n",
       "    </tr>\n",
       "    <tr>\n",
       "      <th>2</th>\n",
       "      <td>03/31/2014</td>\n",
       "      <td>CLE</td>\n",
       "      <td>OAK</td>\n",
       "      <td>6</td>\n",
       "      <td>Ump</td>\n",
       "      <td>Mike Winters</td>\n",
       "      <td>Mike Winters</td>\n",
       "      <td>HP collision</td>\n",
       "      <td>Confirmed</td>\n",
       "      <td>1:06</td>\n",
       "    </tr>\n",
       "    <tr>\n",
       "      <th>3</th>\n",
       "      <td>03/31/2014</td>\n",
       "      <td>CHN</td>\n",
       "      <td>PIT</td>\n",
       "      <td>5</td>\n",
       "      <td>Mgr</td>\n",
       "      <td>Rich Renteria</td>\n",
       "      <td>Bob Davidson</td>\n",
       "      <td>Force play</td>\n",
       "      <td>Confirmed</td>\n",
       "      <td>1:39</td>\n",
       "    </tr>\n",
       "    <tr>\n",
       "      <th>4</th>\n",
       "      <td>03/31/2014</td>\n",
       "      <td>PIT</td>\n",
       "      <td>CHN</td>\n",
       "      <td>10</td>\n",
       "      <td>Mgr</td>\n",
       "      <td>Clint Hurdle</td>\n",
       "      <td>Bob Davidson</td>\n",
       "      <td>Tag play</td>\n",
       "      <td>Overturned</td>\n",
       "      <td>1:46</td>\n",
       "    </tr>\n",
       "  </tbody>\n",
       "</table>\n",
       "</div>"
      ],
      "text/plain": [
       "         Date   Tm  Opp  In Init_type       Initiator        Umpire  \\\n",
       "0  03/31/2014  ATL  MIL   6       Mgr  Fredi Gonzalez   Greg Gibson   \n",
       "1  03/31/2014  WAS  NYN  10       Mgr   Matt Williams   Clint Fagan   \n",
       "2  03/31/2014  CLE  OAK   6       Ump    Mike Winters  Mike Winters   \n",
       "3  03/31/2014  CHN  PIT   5       Mgr   Rich Renteria  Bob Davidson   \n",
       "4  03/31/2014  PIT  CHN  10       Mgr    Clint Hurdle  Bob Davidson   \n",
       "\n",
       "           Type      Ruling  Time  \n",
       "0    Force play  Overturned  1:05  \n",
       "1    Force play   Confirmed  1:44  \n",
       "2  HP collision   Confirmed  1:06  \n",
       "3    Force play   Confirmed  1:39  \n",
       "4      Tag play  Overturned  1:46  "
      ]
     },
     "execution_count": 21,
     "metadata": {},
     "output_type": "execute_result"
    }
   ],
   "source": [
    "ump_table.head()"
   ]
  },
  {
   "cell_type": "code",
   "execution_count": 22,
   "metadata": {
    "collapsed": false
   },
   "outputs": [],
   "source": [
    "#stripped out whitespace\n",
    "for col in ump_table:\n",
    "    try:\n",
    "        ump_table[col].apply(lambda x: x.rstrip(),axis=1)\n",
    "    except:\n",
    "        pass"
   ]
  },
  {
   "cell_type": "code",
   "execution_count": 23,
   "metadata": {
    "collapsed": false
   },
   "outputs": [],
   "source": [
    "#created dictionary to map full name of team to abbreviation, to merge together both datasets\n",
    "team_abbrev={\n",
    "    'Giants':'SFN',\n",
    "    'Angels':'ANA',\n",
    "    'Astros':'HOU',\n",
    "    'Athletics':'OAK',\n",
    "    'Blue Jays':'TOR',\n",
    "    'Braves':'ATL',\n",
    "    'Brewers':'MIL',\n",
    "    'Cardinals':'SLN',\n",
    "    'Cubs':'CHN',\n",
    "    'D-backs':'ARI',\n",
    "    'Dodgers':'LAN',\n",
    "    'Indians':'CLE',\n",
    "    'Mariners':'SEA',\n",
    "    'Marlins':'MIA',\n",
    "    'Mets':'NYN',\n",
    "    'Nationals':'WAS',\n",
    "    'Orioles':'BAL',\n",
    "    'Padres':'SDN',\n",
    "    'Phillies':'PHI',\n",
    "    'Pirates':'PIT',\n",
    "    'Rangers':'TEX',\n",
    "    'Rays':'TBA',\n",
    "    'Red Sox':'BOS',\n",
    "    'Reds':'CIN',\n",
    "    'Rockies':'COL',\n",
    "    'Royals':'KCA',\n",
    "    'Tigers':'DET',\n",
    "    'Twins':'MIN',\n",
    "    'White Sox':'CHA',\n",
    "    'Yankees':'NYA',\n",
    "    'Umpire':'UMP',\n",
    "    'NL':'NL'\n",
    "    \n",
    "}"
   ]
  },
  {
   "cell_type": "code",
   "execution_count": 24,
   "metadata": {
    "collapsed": true
   },
   "outputs": [],
   "source": [
    "#reverse the dicitonary to enable mapping back and forth\n",
    "inv_teams = {team_abbr: team for team, team_abbr in team_abbrev.items()}"
   ]
  },
  {
   "cell_type": "code",
   "execution_count": 25,
   "metadata": {
    "collapsed": false
   },
   "outputs": [],
   "source": [
    "#make the changes to abbrev.\n",
    "challenges.challenger=challenges.challenger.apply(lambda x: team_abbrev[x])"
   ]
  },
  {
   "cell_type": "code",
   "execution_count": 26,
   "metadata": {
    "collapsed": false
   },
   "outputs": [
    {
     "data": {
      "text/html": [
       "<div>\n",
       "<table border=\"1\" class=\"dataframe\">\n",
       "  <thead>\n",
       "    <tr style=\"text-align: right;\">\n",
       "      <th></th>\n",
       "      <th>Date</th>\n",
       "      <th>Tm</th>\n",
       "      <th>Opp</th>\n",
       "      <th>In</th>\n",
       "      <th>Init_type</th>\n",
       "      <th>Initiator</th>\n",
       "      <th>Umpire</th>\n",
       "      <th>Type</th>\n",
       "      <th>Ruling</th>\n",
       "      <th>Time</th>\n",
       "    </tr>\n",
       "  </thead>\n",
       "  <tbody>\n",
       "    <tr>\n",
       "      <th>0</th>\n",
       "      <td>03/31/2014</td>\n",
       "      <td>ATL</td>\n",
       "      <td>MIL</td>\n",
       "      <td>6</td>\n",
       "      <td>Mgr</td>\n",
       "      <td>Fredi Gonzalez</td>\n",
       "      <td>Greg Gibson</td>\n",
       "      <td>Force play</td>\n",
       "      <td>Overturned</td>\n",
       "      <td>1:05</td>\n",
       "    </tr>\n",
       "    <tr>\n",
       "      <th>1</th>\n",
       "      <td>03/31/2014</td>\n",
       "      <td>WAS</td>\n",
       "      <td>NYN</td>\n",
       "      <td>10</td>\n",
       "      <td>Mgr</td>\n",
       "      <td>Matt Williams</td>\n",
       "      <td>Clint Fagan</td>\n",
       "      <td>Force play</td>\n",
       "      <td>Confirmed</td>\n",
       "      <td>1:44</td>\n",
       "    </tr>\n",
       "    <tr>\n",
       "      <th>2</th>\n",
       "      <td>03/31/2014</td>\n",
       "      <td>CLE</td>\n",
       "      <td>OAK</td>\n",
       "      <td>6</td>\n",
       "      <td>Ump</td>\n",
       "      <td>Mike Winters</td>\n",
       "      <td>Mike Winters</td>\n",
       "      <td>HP collision</td>\n",
       "      <td>Confirmed</td>\n",
       "      <td>1:06</td>\n",
       "    </tr>\n",
       "    <tr>\n",
       "      <th>3</th>\n",
       "      <td>03/31/2014</td>\n",
       "      <td>CHN</td>\n",
       "      <td>PIT</td>\n",
       "      <td>5</td>\n",
       "      <td>Mgr</td>\n",
       "      <td>Rich Renteria</td>\n",
       "      <td>Bob Davidson</td>\n",
       "      <td>Force play</td>\n",
       "      <td>Confirmed</td>\n",
       "      <td>1:39</td>\n",
       "    </tr>\n",
       "    <tr>\n",
       "      <th>4</th>\n",
       "      <td>03/31/2014</td>\n",
       "      <td>PIT</td>\n",
       "      <td>CHN</td>\n",
       "      <td>10</td>\n",
       "      <td>Mgr</td>\n",
       "      <td>Clint Hurdle</td>\n",
       "      <td>Bob Davidson</td>\n",
       "      <td>Tag play</td>\n",
       "      <td>Overturned</td>\n",
       "      <td>1:46</td>\n",
       "    </tr>\n",
       "  </tbody>\n",
       "</table>\n",
       "</div>"
      ],
      "text/plain": [
       "         Date   Tm  Opp  In Init_type       Initiator        Umpire  \\\n",
       "0  03/31/2014  ATL  MIL   6       Mgr  Fredi Gonzalez   Greg Gibson   \n",
       "1  03/31/2014  WAS  NYN  10       Mgr   Matt Williams   Clint Fagan   \n",
       "2  03/31/2014  CLE  OAK   6       Ump    Mike Winters  Mike Winters   \n",
       "3  03/31/2014  CHN  PIT   5       Mgr   Rich Renteria  Bob Davidson   \n",
       "4  03/31/2014  PIT  CHN  10       Mgr    Clint Hurdle  Bob Davidson   \n",
       "\n",
       "           Type      Ruling  Time  \n",
       "0    Force play  Overturned  1:05  \n",
       "1    Force play   Confirmed  1:44  \n",
       "2  HP collision   Confirmed  1:06  \n",
       "3    Force play   Confirmed  1:39  \n",
       "4      Tag play  Overturned  1:46  "
      ]
     },
     "execution_count": 26,
     "metadata": {},
     "output_type": "execute_result"
    }
   ],
   "source": [
    "ump_table.head()"
   ]
  },
  {
   "cell_type": "code",
   "execution_count": 27,
   "metadata": {
    "collapsed": false
   },
   "outputs": [],
   "source": [
    "#create new column in umpire dataset to impute who challenged call\n",
    "ump_table['challenger2']=np.where(ump_table['Init_type']=='Ump','UMP',ump_table['Tm'])"
   ]
  },
  {
   "cell_type": "code",
   "execution_count": 28,
   "metadata": {
    "collapsed": true
   },
   "outputs": [],
   "source": [
    "#map the play category from one dataset to another\n",
    "play_dict={\n",
    "    'catch or drop':'Catch/no catch',\n",
    " 'fair or foul in outfield':'Fair/foul (outfield)',\n",
    " 'fan interference':'Fan interference',\n",
    " 'force play':'Force play',\n",
    " 'grounds rule':'Grounds rule',\n",
    " 'hit by pitch':'Hit by pitch',\n",
    " 'home run':'Home run',\n",
    " 'home-plate collision':'HP collision',\n",
    " 'other':'Other',\n",
    " 'passing runners':'Passing runners',\n",
    " 'play at 1st':'Force play',\n",
    " 'record keeping':'Rcd keeping',\n",
    " 'rules check':'Rules check',\n",
    " 'slide interference':'Slide rule',\n",
    " 'stadium boundary call':'Boundary call',\n",
    " 'tag play':'Tag play',\n",
    " 'tag-up play':'Tag-up',\n",
    " 'timing play':'Timing play',\n",
    " 'touching a base':'Touching a base',\n",
    " 'trap play':'Trap play (outfield)'\n",
    "}"
   ]
  },
  {
   "cell_type": "code",
   "execution_count": 29,
   "metadata": {
    "collapsed": false
   },
   "outputs": [],
   "source": [
    "challenges.play_type=challenges.play_type.apply(lambda x: play_dict[x])"
   ]
  },
  {
   "cell_type": "code",
   "execution_count": 30,
   "metadata": {
    "collapsed": false
   },
   "outputs": [],
   "source": [
    "#change innings to num\n",
    "ump_table.In=pd.to_numeric(ump_table.In)\n"
   ]
  },
  {
   "cell_type": "code",
   "execution_count": 31,
   "metadata": {
    "collapsed": false
   },
   "outputs": [],
   "source": [
    "#change datae to datetime\n",
    "challenges.date=pd.to_datetime(challenges.date)"
   ]
  },
  {
   "cell_type": "code",
   "execution_count": 32,
   "metadata": {
    "collapsed": false
   },
   "outputs": [],
   "source": [
    "ump_table.Date=pd.to_datetime(ump_table.Date)"
   ]
  },
  {
   "cell_type": "code",
   "execution_count": 33,
   "metadata": {
    "collapsed": false
   },
   "outputs": [],
   "source": [
    "#eliminates duplicate rows, which were found in mlb.com dataset\n",
    "challenges=challenges.drop_duplicates(['date','description'])"
   ]
  },
  {
   "cell_type": "code",
   "execution_count": 34,
   "metadata": {
    "collapsed": false
   },
   "outputs": [],
   "source": [
    "#modify mlb.com df to drop out the more recent challenges that are not yet recorded by retrosheet\n",
    "short_challenges=challenges[challenges.date<=sorted(ump_table.Date)[-1]]"
   ]
  },
  {
   "cell_type": "code",
   "execution_count": 35,
   "metadata": {
    "collapsed": false
   },
   "outputs": [],
   "source": [
    "#trying this combination\n",
    "inner_merge=ump_table.merge(short_challenges,how='inner', left_on=['challenger2','In','Date'], right_on=['challenger','inning','date']).sort_values('Date')"
   ]
  },
  {
   "cell_type": "code",
   "execution_count": 36,
   "metadata": {
    "collapsed": false
   },
   "outputs": [],
   "source": [
    "#make into day of week variable (sabr says important)\n",
    "inner_merge['day']=inner_merge.date.dt.dayofweek"
   ]
  },
  {
   "cell_type": "code",
   "execution_count": 37,
   "metadata": {
    "collapsed": false
   },
   "outputs": [],
   "source": [
    "#standardize the play call labels\n",
    "inner_merge.Ruling=inner_merge.Ruling.apply(lambda x: x.rstrip())"
   ]
  },
  {
   "cell_type": "code",
   "execution_count": 38,
   "metadata": {
    "collapsed": false
   },
   "outputs": [],
   "source": [
    "#get rid of retrosheet's 'Rcd keeping' box and default to mlb's ruling (assuming 0=confirmed)\n",
    "inner_merge['ruling_res']=np.where(inner_merge.Ruling=='Rcd keeping', inner_merge.overturned,inner_merge.Ruling)"
   ]
  },
  {
   "cell_type": "code",
   "execution_count": 39,
   "metadata": {
    "collapsed": true
   },
   "outputs": [],
   "source": [
    "inner_merge = inner_merge[inner_merge.challenger2 != 'NL']"
   ]
  },
  {
   "cell_type": "code",
   "execution_count": 40,
   "metadata": {
    "collapsed": false
   },
   "outputs": [],
   "source": [
    "inner_merge.ruling_res=inner_merge.ruling_res.apply(lambda x: 'Confirmed' if x==0 else 'Overturned' if x==1 else x)"
   ]
  },
  {
   "cell_type": "code",
   "execution_count": 41,
   "metadata": {
    "collapsed": true
   },
   "outputs": [],
   "source": [
    "#inputs a feature in the inner_merge dataframe and calculates the 3 part breakdown of accuracy given the feature, \n",
    "#returns a dict with the unique features as keys \n",
    "def accuracy(feature):\n",
    "    accuracy_dict={}\n",
    "    unique_vars=feature.unique()\n",
    "    for case in unique_vars:\n",
    "        total=len(inner_merge[feature==case])\n",
    "        overturned=len(inner_merge[(feature==case)&(inner_merge.ruling_res=='Overturned')])\n",
    "        stands=len(inner_merge[(feature==case)&(inner_merge.ruling_res=='Stands')])\n",
    "        confirmed=len(inner_merge[(feature==case)&(inner_merge.ruling_res=='Confirmed')])\n",
    "        accuracy_dict[case]=[float(overturned)/total,float(stands)/total,float(confirmed)/total,total]\n",
    "        \n",
    "    return accuracy_dict\n"
   ]
  },
  {
   "cell_type": "code",
   "execution_count": 42,
   "metadata": {
    "collapsed": true
   },
   "outputs": [],
   "source": [
    "#create dictionaries that break down the distribution of overturned/stands/confirmed for each unique subcategory\n",
    "challenger_dict=accuracy(inner_merge.challenger2)\n",
    "umpire_dict=accuracy(inner_merge.Umpire)\n",
    "play_dict=accuracy(inner_merge.play_type)\n",
    "day_dict=accuracy(inner_merge.day)\n",
    "inning_dict=accuracy(inner_merge.inning)"
   ]
  },
  {
   "cell_type": "code",
   "execution_count": 43,
   "metadata": {
    "collapsed": true
   },
   "outputs": [],
   "source": [
    "#create new vals for accuracy given each situation\n",
    "inner_merge['team_overturned']=inner_merge.challenger2.apply(lambda x: challenger_dict[x][0])\n",
    "inner_merge['team_stands']=inner_merge.challenger2.apply(lambda x: challenger_dict[x][1])\n",
    "inner_merge['team_confirmed']=inner_merge.challenger2.apply(lambda x: challenger_dict[x][2])\n",
    "inner_merge['ump_ov']=inner_merge.Umpire.apply(lambda x: umpire_dict[x][0])\n",
    "inner_merge['ump_st']=inner_merge.Umpire.apply(lambda x: umpire_dict[x][1])\n",
    "inner_merge['ump_con']=inner_merge.Umpire.apply(lambda x: umpire_dict[x][2])\n",
    "inner_merge['type_ov']=inner_merge.play_type.apply(lambda x: play_dict[x][0])\n",
    "inner_merge['type_st']=inner_merge.play_type.apply(lambda x: play_dict[x][1])\n",
    "inner_merge['type_con']=inner_merge.play_type.apply(lambda x: play_dict[x][2])\n",
    "inner_merge['day_ov']=inner_merge.day.apply(lambda x: day_dict[x][0])\n",
    "inner_merge['day_st']=inner_merge.day.apply(lambda x: day_dict[x][1])\n",
    "inner_merge['day_con']=inner_merge.day.apply(lambda x: day_dict[x][2])\n",
    "inner_merge['inn_ov']=inner_merge.inning.apply(lambda x: inning_dict[x][0])\n",
    "inner_merge['inn_st']=inner_merge.inning.apply(lambda x: inning_dict[x][1])\n",
    "inner_merge['inn_con']=inner_merge.inning.apply(lambda x: inning_dict[x][2])"
   ]
  },
  {
   "cell_type": "code",
   "execution_count": 44,
   "metadata": {
    "collapsed": true
   },
   "outputs": [],
   "source": [
    "inner_merge['labels']=inner_merge.overturned.apply(lambda x: 1 if x=='Yes' else 0)"
   ]
  },
  {
   "cell_type": "code",
   "execution_count": 45,
   "metadata": {
    "collapsed": false
   },
   "outputs": [
    {
     "data": {
      "text/plain": [
       "Index([u'Date', u'Tm', u'Opp', u'In', u'Init_type', u'Initiator', u'Umpire',\n",
       "       u'Type', u'Ruling', u'Time', u'challenger2', u'num', u'date', u'teams',\n",
       "       u'challenger', u'play_type', u'overturned', u'pitcher', u'batter',\n",
       "       u'inning', u'description', u'day', u'ruling_res', u'team_overturned',\n",
       "       u'team_stands', u'team_confirmed', u'ump_ov', u'ump_st', u'ump_con',\n",
       "       u'type_ov', u'type_st', u'type_con', u'day_ov', u'day_st', u'day_con',\n",
       "       u'inn_ov', u'inn_st', u'inn_con', u'labels'],\n",
       "      dtype='object')"
      ]
     },
     "execution_count": 45,
     "metadata": {},
     "output_type": "execute_result"
    }
   ],
   "source": [
    "inner_merge.columns"
   ]
  },
  {
   "cell_type": "code",
   "execution_count": 46,
   "metadata": {
    "collapsed": true
   },
   "outputs": [],
   "source": [
    "#used for modeling on team challenging\n",
    "X=inner_merge.iloc[:,-16:-1]"
   ]
  },
  {
   "cell_type": "code",
   "execution_count": 47,
   "metadata": {
    "collapsed": false
   },
   "outputs": [],
   "source": [
    "#used when exclude team history\n",
    "X2=inner_merge.iloc[:,-13:-1]"
   ]
  },
  {
   "cell_type": "code",
   "execution_count": 48,
   "metadata": {
    "collapsed": false
   },
   "outputs": [],
   "source": [
    "y=inner_merge['labels']"
   ]
  },
  {
   "cell_type": "code",
   "execution_count": 49,
   "metadata": {
    "collapsed": false
   },
   "outputs": [],
   "source": [
    "from sklearn.linear_model import LogisticRegression\n",
    "from sklearn.metrics import accuracy_score, precision_score, recall_score, f1_score,log_loss\n",
    "from sklearn.cross_validation import cross_val_score\n",
    "from sklearn.neighbors import KNeighborsClassifier"
   ]
  },
  {
   "cell_type": "code",
   "execution_count": 50,
   "metadata": {
    "collapsed": false
   },
   "outputs": [],
   "source": [
    "log_reg=LogisticRegression()"
   ]
  },
  {
   "cell_type": "code",
   "execution_count": 51,
   "metadata": {
    "collapsed": false
   },
   "outputs": [
    {
     "data": {
      "text/plain": [
       "-0.62070331555903013"
      ]
     },
     "execution_count": 51,
     "metadata": {},
     "output_type": "execute_result"
    }
   ],
   "source": [
    "cross_val_score(log_reg,X2,y,scoring='log_loss').mean()"
   ]
  },
  {
   "cell_type": "code",
   "execution_count": 52,
   "metadata": {
    "collapsed": false
   },
   "outputs": [
    {
     "data": {
      "text/plain": [
       "LogisticRegression(C=1.0, class_weight=None, dual=False, fit_intercept=True,\n",
       "          intercept_scaling=1, max_iter=100, multi_class='ovr', n_jobs=1,\n",
       "          penalty='l2', random_state=None, solver='liblinear', tol=0.0001,\n",
       "          verbose=0, warm_start=False)"
      ]
     },
     "execution_count": 52,
     "metadata": {},
     "output_type": "execute_result"
    }
   ],
   "source": [
    "log_reg.fit(X,y)"
   ]
  },
  {
   "cell_type": "code",
   "execution_count": 53,
   "metadata": {
    "collapsed": true
   },
   "outputs": [],
   "source": [
    "log_reg2=LogisticRegression()"
   ]
  },
  {
   "cell_type": "code",
   "execution_count": 54,
   "metadata": {
    "collapsed": false
   },
   "outputs": [
    {
     "data": {
      "text/plain": [
       "LogisticRegression(C=1.0, class_weight=None, dual=False, fit_intercept=True,\n",
       "          intercept_scaling=1, max_iter=100, multi_class='ovr', n_jobs=1,\n",
       "          penalty='l2', random_state=None, solver='liblinear', tol=0.0001,\n",
       "          verbose=0, warm_start=False)"
      ]
     },
     "execution_count": 54,
     "metadata": {},
     "output_type": "execute_result"
    }
   ],
   "source": [
    "log_reg2.fit(X2,y)"
   ]
  },
  {
   "cell_type": "code",
   "execution_count": 55,
   "metadata": {
    "collapsed": false
   },
   "outputs": [
    {
     "data": {
      "text/plain": [
       "-0.61496746799969715"
      ]
     },
     "execution_count": 55,
     "metadata": {},
     "output_type": "execute_result"
    }
   ],
   "source": [
    "cross_val_score(log_reg,X,y,scoring='log_loss').mean()"
   ]
  },
  {
   "cell_type": "code",
   "execution_count": 56,
   "metadata": {
    "collapsed": false
   },
   "outputs": [
    {
     "data": {
      "text/plain": [
       "LogisticRegression(C=1.0, class_weight=None, dual=False, fit_intercept=True,\n",
       "          intercept_scaling=1, max_iter=100, multi_class='ovr', n_jobs=1,\n",
       "          penalty='l2', random_state=None, solver='liblinear', tol=0.0001,\n",
       "          verbose=0, warm_start=False)"
      ]
     },
     "execution_count": 56,
     "metadata": {},
     "output_type": "execute_result"
    }
   ],
   "source": [
    "log_reg.fit(X,y)"
   ]
  },
  {
   "cell_type": "code",
   "execution_count": 57,
   "metadata": {
    "collapsed": false
   },
   "outputs": [],
   "source": [
    "from  sklearn.svm import SVC"
   ]
  },
  {
   "cell_type": "code",
   "execution_count": 58,
   "metadata": {
    "collapsed": true
   },
   "outputs": [],
   "source": [
    "from sklearn.grid_search import GridSearchCV"
   ]
  },
  {
   "cell_type": "code",
   "execution_count": 59,
   "metadata": {
    "collapsed": true
   },
   "outputs": [],
   "source": [
    "svm=SVC(probability=True)"
   ]
  },
  {
   "cell_type": "code",
   "execution_count": 60,
   "metadata": {
    "collapsed": true
   },
   "outputs": [],
   "source": [
    "param_grid = [{'kernel': ['rbf'], 'gamma': [1,1e-1,1e-2,1e-3, 1e-4],\n",
    "                     'C': [1, 10, 100, 1000]},{'kernel': ['linear'], 'C': [1, 10, 100, 1000]},{'kernel':['poly'],'degree':[1,2,3]}]"
   ]
  },
  {
   "cell_type": "code",
   "execution_count": 61,
   "metadata": {
    "collapsed": false
   },
   "outputs": [
    {
     "data": {
      "text/plain": [
       "GridSearchCV(cv=None, error_score='raise',\n",
       "       estimator=SVC(C=1.0, cache_size=200, class_weight=None, coef0=0.0,\n",
       "  decision_function_shape=None, degree=3, gamma='auto', kernel='rbf',\n",
       "  max_iter=-1, probability=True, random_state=None, shrinking=True,\n",
       "  tol=0.001, verbose=False),\n",
       "       fit_params={}, iid=True, n_jobs=1,\n",
       "       param_grid=[{'kernel': ['rbf'], 'C': [1, 10, 100, 1000], 'gamma': [1, 0.1, 0.01, 0.001, 0.0001]}, {'kernel': ['linear'], 'C': [1, 10, 100, 1000]}, {'kernel': ['poly'], 'degree': [1, 2, 3]}],\n",
       "       pre_dispatch='2*n_jobs', refit=True, scoring='log_loss', verbose=0)"
      ]
     },
     "execution_count": 61,
     "metadata": {},
     "output_type": "execute_result"
    }
   ],
   "source": [
    "grid = GridSearchCV(svm, param_grid, scoring='log_loss')\n",
    "grid.fit(X, y)"
   ]
  },
  {
   "cell_type": "code",
   "execution_count": 62,
   "metadata": {
    "collapsed": false
   },
   "outputs": [
    {
     "name": "stdout",
     "output_type": "stream",
     "text": [
      "-0.612830675541\n",
      "{'kernel': 'linear', 'C': 1000}\n"
     ]
    }
   ],
   "source": [
    "print grid.best_score_\n",
    "print grid.best_params_"
   ]
  },
  {
   "cell_type": "code",
   "execution_count": 63,
   "metadata": {
    "collapsed": false
   },
   "outputs": [
    {
     "data": {
      "text/plain": [
       "GridSearchCV(cv=None, error_score='raise',\n",
       "       estimator=SVC(C=1.0, cache_size=200, class_weight=None, coef0=0.0,\n",
       "  decision_function_shape=None, degree=3, gamma='auto', kernel='rbf',\n",
       "  max_iter=-1, probability=True, random_state=None, shrinking=True,\n",
       "  tol=0.001, verbose=False),\n",
       "       fit_params={}, iid=True, n_jobs=1,\n",
       "       param_grid=[{'kernel': ['rbf'], 'C': [1, 10, 100, 1000], 'gamma': [1, 0.1, 0.01, 0.001, 0.0001]}, {'kernel': ['linear'], 'C': [1, 10, 100, 1000]}, {'kernel': ['poly'], 'degree': [1, 2, 3]}],\n",
       "       pre_dispatch='2*n_jobs', refit=True, scoring='log_loss', verbose=0)"
      ]
     },
     "execution_count": 63,
     "metadata": {},
     "output_type": "execute_result"
    }
   ],
   "source": [
    "grid = GridSearchCV(svm, param_grid, scoring='log_loss')\n",
    "grid.fit(X2, y)"
   ]
  },
  {
   "cell_type": "code",
   "execution_count": 64,
   "metadata": {
    "collapsed": false
   },
   "outputs": [
    {
     "name": "stdout",
     "output_type": "stream",
     "text": [
      "-0.620813670977\n",
      "{'kernel': 'rbf', 'C': 1000, 'gamma': 0.001}\n"
     ]
    }
   ],
   "source": [
    "print grid.best_score_\n",
    "print grid.best_params_"
   ]
  },
  {
   "cell_type": "code",
   "execution_count": null,
   "metadata": {
    "collapsed": true
   },
   "outputs": [],
   "source": []
  },
  {
   "cell_type": "code",
   "execution_count": null,
   "metadata": {
    "collapsed": true
   },
   "outputs": [],
   "source": []
  },
  {
   "cell_type": "code",
   "execution_count": 65,
   "metadata": {
    "collapsed": true
   },
   "outputs": [],
   "source": [
    "svm=SVC(kernel='linear',C=1000,probability=True)"
   ]
  },
  {
   "cell_type": "code",
   "execution_count": 66,
   "metadata": {
    "collapsed": false
   },
   "outputs": [
    {
     "data": {
      "text/plain": [
       "-0.61323543585579199"
      ]
     },
     "execution_count": 66,
     "metadata": {},
     "output_type": "execute_result"
    }
   ],
   "source": [
    "cross_val_score(svm,X,y,scoring='log_loss').mean()"
   ]
  },
  {
   "cell_type": "code",
   "execution_count": 67,
   "metadata": {
    "collapsed": false
   },
   "outputs": [
    {
     "data": {
      "text/plain": [
       "SVC(C=1000, cache_size=200, class_weight=None, coef0=0.0,\n",
       "  decision_function_shape=None, degree=3, gamma='auto', kernel='linear',\n",
       "  max_iter=-1, probability=True, random_state=None, shrinking=True,\n",
       "  tol=0.001, verbose=False)"
      ]
     },
     "execution_count": 67,
     "metadata": {},
     "output_type": "execute_result"
    }
   ],
   "source": [
    "svm.fit(X,y)"
   ]
  },
  {
   "cell_type": "code",
   "execution_count": null,
   "metadata": {
    "collapsed": true
   },
   "outputs": [],
   "source": []
  },
  {
   "cell_type": "code",
   "execution_count": null,
   "metadata": {
    "collapsed": true
   },
   "outputs": [],
   "source": []
  },
  {
   "cell_type": "code",
   "execution_count": null,
   "metadata": {
    "collapsed": true
   },
   "outputs": [],
   "source": []
  },
  {
   "cell_type": "code",
   "execution_count": 68,
   "metadata": {
    "collapsed": true
   },
   "outputs": [],
   "source": [
    "from sklearn.linear_model import LogisticRegressionCV"
   ]
  },
  {
   "cell_type": "code",
   "execution_count": 69,
   "metadata": {
    "collapsed": true
   },
   "outputs": [],
   "source": [
    "logregcv=LogisticRegressionCV()"
   ]
  },
  {
   "cell_type": "code",
   "execution_count": 70,
   "metadata": {
    "collapsed": false
   },
   "outputs": [
    {
     "data": {
      "text/plain": [
       "-0.61596941619059864"
      ]
     },
     "execution_count": 70,
     "metadata": {},
     "output_type": "execute_result"
    }
   ],
   "source": [
    "cross_val_score(logregcv,X,y,scoring='log_loss').mean()"
   ]
  },
  {
   "cell_type": "code",
   "execution_count": 71,
   "metadata": {
    "collapsed": false
   },
   "outputs": [
    {
     "data": {
      "text/plain": [
       "-0.62203500049317484"
      ]
     },
     "execution_count": 71,
     "metadata": {},
     "output_type": "execute_result"
    }
   ],
   "source": [
    "cross_val_score(logregcv,X2,y,scoring='log_loss').mean()"
   ]
  },
  {
   "cell_type": "code",
   "execution_count": 72,
   "metadata": {
    "collapsed": false
   },
   "outputs": [
    {
     "data": {
      "text/plain": [
       "0.64646851905310232"
      ]
     },
     "execution_count": 72,
     "metadata": {},
     "output_type": "execute_result"
    }
   ],
   "source": [
    "cross_val_score(logregcv,X2,y).mean()"
   ]
  },
  {
   "cell_type": "code",
   "execution_count": 73,
   "metadata": {
    "collapsed": true
   },
   "outputs": [],
   "source": [
    "logregcv2=LogisticRegressionCV()"
   ]
  },
  {
   "cell_type": "code",
   "execution_count": 74,
   "metadata": {
    "collapsed": false
   },
   "outputs": [
    {
     "data": {
      "text/plain": [
       "LogisticRegressionCV(Cs=10, class_weight=None, cv=None, dual=False,\n",
       "           fit_intercept=True, intercept_scaling=1.0, max_iter=100,\n",
       "           multi_class='ovr', n_jobs=1, penalty='l2', random_state=None,\n",
       "           refit=True, scoring=None, solver='lbfgs', tol=0.0001, verbose=0)"
      ]
     },
     "execution_count": 74,
     "metadata": {},
     "output_type": "execute_result"
    }
   ],
   "source": [
    "logregcv2.fit(X2,y)"
   ]
  },
  {
   "cell_type": "code",
   "execution_count": 75,
   "metadata": {
    "collapsed": false
   },
   "outputs": [
    {
     "data": {
      "text/plain": [
       "LogisticRegressionCV(Cs=10, class_weight=None, cv=None, dual=False,\n",
       "           fit_intercept=True, intercept_scaling=1.0, max_iter=100,\n",
       "           multi_class='ovr', n_jobs=1, penalty='l2', random_state=None,\n",
       "           refit=True, scoring=None, solver='lbfgs', tol=0.0001, verbose=0)"
      ]
     },
     "execution_count": 75,
     "metadata": {},
     "output_type": "execute_result"
    }
   ],
   "source": [
    "logregcv.fit(X,y)"
   ]
  },
  {
   "cell_type": "markdown",
   "metadata": {},
   "source": [
    "Now, the model will output expected probability. Now we have to convert that value taking into consideration that we are modeling on all \"challengeable\" plays. To model the total number of reasonably \"challengeable\" plays find the max for any team. To model the total \"successes\" find the max of successes for any team. (Maybe come back to it, but find the umpire challenges also)."
   ]
  },
  {
   "cell_type": "code",
   "execution_count": 76,
   "metadata": {
    "collapsed": false
   },
   "outputs": [],
   "source": [
    "team_games={'ANA': 3,\n",
    " 'ARI': 0,\n",
    " 'ATL': 0,\n",
    " 'BAL': 7,\n",
    " 'BOS': 0,\n",
    " 'CHA': 0,\n",
    " 'CHN': 9,\n",
    " 'CIN': 0,\n",
    " 'CLE': 0,\n",
    " 'COL': 0,\n",
    " 'DET': 3,\n",
    " 'HOU': 6,\n",
    " 'KCA': 31,\n",
    " 'LAN': 9,\n",
    " 'MIA': 0,\n",
    " 'MIL': 0,\n",
    " 'MIN': 0,\n",
    " 'NYA': 1,\n",
    " 'NYN': 14,\n",
    " 'OAK': 1,\n",
    " 'PHI': 0,\n",
    " 'PIT': 2,\n",
    " 'SDN': 0,\n",
    " 'SEA': 0,\n",
    " 'SFN': 16,\n",
    " 'SLN': 13,\n",
    " 'TBA': 0,\n",
    " 'TEX': 5,\n",
    " 'TOR': 11,\n",
    " 'UMP': 0,\n",
    " 'WAS': 4}"
   ]
  },
  {
   "cell_type": "code",
   "execution_count": 77,
   "metadata": {
    "collapsed": false
   },
   "outputs": [
    {
     "data": {
      "text/plain": [
       "6517"
      ]
     },
     "execution_count": 77,
     "metadata": {},
     "output_type": "execute_result"
    }
   ],
   "source": [
    "#calculating total umpire games\n",
    "162*2*30/2+27*3*30/2+25*30/2+67"
   ]
  },
  {
   "cell_type": "code",
   "execution_count": 78,
   "metadata": {
    "collapsed": false
   },
   "outputs": [],
   "source": [
    "#calculate games played, 162 for 2 + 106 from 2016 (through 7/31) plus playoffs, ump=6515 from previous summing\n",
    "inner_merge['games_played']=inner_merge.challenger2.apply(lambda x: 162*2+106+team_games[x] if x!='UMP' else 6517)"
   ]
  },
  {
   "cell_type": "code",
   "execution_count": 79,
   "metadata": {
    "collapsed": false
   },
   "outputs": [],
   "source": [
    "#total challenges for a team\n",
    "inner_merge['tot_challenges']=inner_merge.challenger2.apply(lambda x: len(inner_merge[inner_merge.challenger2==x]))"
   ]
  },
  {
   "cell_type": "code",
   "execution_count": 80,
   "metadata": {
    "collapsed": false
   },
   "outputs": [],
   "source": [
    "#divided by total games played\n",
    "inner_merge['challenge_p_g']=inner_merge.tot_challenges/inner_merge.games_played"
   ]
  },
  {
   "cell_type": "code",
   "execution_count": 81,
   "metadata": {
    "collapsed": false
   },
   "outputs": [],
   "source": [
    "#total succesful challenges per team per game\n",
    "inner_merge['tot_suc']=inner_merge.challenger2.apply(lambda x: len(inner_merge[(inner_merge.challenger2==x)&(inner_merge.overturned=='Yes')]))"
   ]
  },
  {
   "cell_type": "code",
   "execution_count": 82,
   "metadata": {
    "collapsed": false
   },
   "outputs": [],
   "source": [
    "#total successful challenges per team per game\n",
    "inner_merge['tot_suc_p_g']=inner_merge.tot_suc/inner_merge.games_played"
   ]
  },
  {
   "cell_type": "code",
   "execution_count": 83,
   "metadata": {
    "collapsed": false
   },
   "outputs": [
    {
     "data": {
      "text/plain": [
       "0.23270331542202946"
      ]
     },
     "execution_count": 83,
     "metadata": {},
     "output_type": "execute_result"
    }
   ],
   "source": [
    "inner_merge.challenge_p_g.unique().mean()"
   ]
  },
  {
   "cell_type": "code",
   "execution_count": 84,
   "metadata": {
    "collapsed": false
   },
   "outputs": [
    {
     "ename": "NameError",
     "evalue": "name 'ucpg' is not defined",
     "output_type": "error",
     "traceback": [
      "\u001b[0;31m---------------------------------------------------------------------------\u001b[0m",
      "\u001b[0;31mNameError\u001b[0m                                 Traceback (most recent call last)",
      "\u001b[0;32m<ipython-input-84-ef056d27d5ba>\u001b[0m in \u001b[0;36m<module>\u001b[0;34m()\u001b[0m\n\u001b[0;32m----> 1\u001b[0;31m \u001b[0minner_merge\u001b[0m\u001b[0;34m.\u001b[0m\u001b[0mchallenge_p_g\u001b[0m\u001b[0;34m.\u001b[0m\u001b[0munique\u001b[0m\u001b[0;34m(\u001b[0m\u001b[0;34m)\u001b[0m\u001b[0;34m.\u001b[0m\u001b[0mmax\u001b[0m\u001b[0;34m(\u001b[0m\u001b[0;34m)\u001b[0m\u001b[0;34m+\u001b[0m\u001b[0mucpg\u001b[0m\u001b[0;34m\u001b[0m\u001b[0m\n\u001b[0m",
      "\u001b[0;31mNameError\u001b[0m: name 'ucpg' is not defined"
     ]
    }
   ],
   "source": [
    "inner_merge.challenge_p_g.unique().max()+ucpg"
   ]
  },
  {
   "cell_type": "code",
   "execution_count": null,
   "metadata": {
    "collapsed": false
   },
   "outputs": [],
   "source": [
    "(inner_merge.challenge_p_g.unique().max()+ucpg)/inner_merge.challenge_p_g.unique().mean()"
   ]
  },
  {
   "cell_type": "code",
   "execution_count": null,
   "metadata": {
    "collapsed": false
   },
   "outputs": [],
   "source": [
    "inner_merge.tot_suc_p_g.unique().mean()"
   ]
  },
  {
   "cell_type": "code",
   "execution_count": null,
   "metadata": {
    "collapsed": false
   },
   "outputs": [],
   "source": [
    "inner_merge.tot_suc_p_g.unique().max()+uspg"
   ]
  },
  {
   "cell_type": "code",
   "execution_count": null,
   "metadata": {
    "collapsed": false
   },
   "outputs": [],
   "source": [
    "(inner_merge.tot_suc_p_g.unique().max()+uspg)/inner_merge.tot_suc_p_g.unique().mean()"
   ]
  },
  {
   "cell_type": "code",
   "execution_count": null,
   "metadata": {
    "collapsed": false
   },
   "outputs": [],
   "source": [
    "#adjustment to take into account to convert to subset of challenged plays to all plays\n",
    "gen_adj=((inner_merge.tot_suc_p_g.unique().max()+uspg)/inner_merge.tot_suc_p_g.unique().mean())/((inner_merge.challenge_p_g.unique().max()+ucpg)/inner_merge.challenge_p_g.unique().mean())"
   ]
  },
  {
   "cell_type": "code",
   "execution_count": null,
   "metadata": {
    "collapsed": false
   },
   "outputs": [],
   "source": [
    "#find the highest challenges per game (modeling later on) and highest succesful challenges per game\n",
    "mcpg=max(inner_merge.challenge_p_g)\n",
    "mspg=max(inner_merge.tot_suc_p_g)"
   ]
  },
  {
   "cell_type": "code",
   "execution_count": null,
   "metadata": {
    "collapsed": false
   },
   "outputs": [],
   "source": [
    "mspg/mcpg"
   ]
  },
  {
   "cell_type": "code",
   "execution_count": null,
   "metadata": {
    "collapsed": false
   },
   "outputs": [],
   "source": [
    "ump_plays=[x for x in inner_merge.play_type.unique() if x not in inner_merge[inner_merge.challenger2!='UMP'].play_type.unique()]"
   ]
  },
  {
   "cell_type": "code",
   "execution_count": null,
   "metadata": {
    "collapsed": false
   },
   "outputs": [],
   "source": [
    "tot_ump_c=len(inner_merge[(inner_merge.play_type.isin(ump_plays)==False)&(inner_merge.challenger2=='UMP')])/2"
   ]
  },
  {
   "cell_type": "code",
   "execution_count": null,
   "metadata": {
    "collapsed": false
   },
   "outputs": [],
   "source": [
    "tot_ump_s=len(inner_merge[(inner_merge.play_type.isin(ump_plays)==False)&(inner_merge.challenger2=='UMP')&(inner_merge.overturned=='Yes')])/2\n"
   ]
  },
  {
   "cell_type": "code",
   "execution_count": null,
   "metadata": {
    "collapsed": false
   },
   "outputs": [],
   "source": [
    "ucpg=float(tot_ump_c)/6517"
   ]
  },
  {
   "cell_type": "code",
   "execution_count": null,
   "metadata": {
    "collapsed": false
   },
   "outputs": [],
   "source": [
    "uspg=float(tot_ump_s)/6517"
   ]
  },
  {
   "cell_type": "markdown",
   "metadata": {},
   "source": [
    "# Part III Calculate the \"opportunity cost\" of a lost challenge"
   ]
  },
  {
   "cell_type": "code",
   "execution_count": null,
   "metadata": {
    "collapsed": false
   },
   "outputs": [],
   "source": [
    "import mlbgame"
   ]
  },
  {
   "cell_type": "code",
   "execution_count": null,
   "metadata": {
    "collapsed": false
   },
   "outputs": [],
   "source": [
    "#winner function inputs a team and date and leverages mlbgame package to output if the team won that game\n",
    "def winner(challenger,date):\n",
    "    winner=mlbgame.day(date.year,date.month,date.day,home=inv_teams[challenger],away=inv_teams[challenger])\n",
    "    if len(winner)<1:\n",
    "        return 'Wrong Input'\n",
    "    elif winner[0].w_team==inv_teams[challenger]:\n",
    "        return 1\n",
    "    else:\n",
    "        return 0"
   ]
  },
  {
   "cell_type": "code",
   "execution_count": null,
   "metadata": {
    "collapsed": true
   },
   "outputs": [],
   "source": [
    "inner_merge['won_game']=inner_merge.apply(lambda row: winner(row['Tm'], row['Date']), axis=1)"
   ]
  },
  {
   "cell_type": "code",
   "execution_count": null,
   "metadata": {
    "collapsed": false
   },
   "outputs": [],
   "source": [
    "#finding winning percentage, given lost challenge\n",
    "winning_pct_lost=inner_merge[(inner_merge.challenger2!='UMP')&(inner_merge.overturned=='No')].won_game.mean()"
   ]
  },
  {
   "cell_type": "code",
   "execution_count": null,
   "metadata": {
    "collapsed": false
   },
   "outputs": [],
   "source": [
    "#finding winning percentage, given won challenge\n",
    "winning_pct_won=inner_merge[(inner_merge.challenger2!='UMP')&(inner_merge.overturned=='Yes')].won_game.mean()"
   ]
  },
  {
   "cell_type": "code",
   "execution_count": null,
   "metadata": {
    "collapsed": false
   },
   "outputs": [],
   "source": [
    "(.5-inner_merge[(inner_merge.challenger2!='UMP')&(inner_merge.overturned=='No')&(inner_merge.inning==7)].won_game.mean())-(inner_merge[(inner_merge.challenger2!='UMP')&(inner_merge.overturned=='Yes')&(inner_merge.inning==7)].won_game.mean()-.5)"
   ]
  },
  {
   "cell_type": "code",
   "execution_count": null,
   "metadata": {
    "collapsed": false
   },
   "outputs": [],
   "source": [
    "for i in range(1,10):\n",
    "    print i, inner_merge[(inner_merge.challenger2!='UMP')&(inner_merge.overturned=='No')&(inner_merge.inning==i)].won_game.mean()"
   ]
  },
  {
   "cell_type": "code",
   "execution_count": null,
   "metadata": {
    "collapsed": false
   },
   "outputs": [],
   "source": [
    "ocpo=(.5-inner_merge[(inner_merge.challenger2!='UMP')&(inner_merge.overturned=='No')&(inner_merge.inning==1)].won_game.mean())/49"
   ]
  },
  {
   "cell_type": "code",
   "execution_count": null,
   "metadata": {
    "collapsed": false
   },
   "outputs": [],
   "source": [
    "#find the average number of innings remaining after a challenge\n",
    "9-inner_merge[inner_merge.challenger2!='UMP'].inning.mean()"
   ]
  },
  {
   "cell_type": "code",
   "execution_count": null,
   "metadata": {
    "collapsed": false
   },
   "outputs": [],
   "source": [
    "#convert to number of outs\n",
    "2.5*6+4"
   ]
  },
  {
   "cell_type": "code",
   "execution_count": null,
   "metadata": {
    "collapsed": false
   },
   "outputs": [],
   "source": [
    "opp_cost_per_out=(abs(.5-winning_pct_lost)-abs(.5-winning_pct_won))/19"
   ]
  },
  {
   "cell_type": "code",
   "execution_count": null,
   "metadata": {
    "collapsed": false
   },
   "outputs": [],
   "source": [
    "opp_cost_per_out"
   ]
  },
  {
   "cell_type": "code",
   "execution_count": null,
   "metadata": {
    "collapsed": false
   },
   "outputs": [],
   "source": [
    "(.5-inner_merge[(inner_merge.challenger2!='UMP')&(inner_merge.overturned=='No')&(inner_merge.inning==1)].won_game.mean())/49"
   ]
  },
  {
   "cell_type": "code",
   "execution_count": null,
   "metadata": {
    "collapsed": false
   },
   "outputs": [],
   "source": [
    "ocpo*46"
   ]
  },
  {
   "cell_type": "markdown",
   "metadata": {},
   "source": [
    "# Testing Model"
   ]
  },
  {
   "cell_type": "markdown",
   "metadata": {},
   "source": [
    "Inputs needed:\n",
    "1. Team\n",
    "2. day\n",
    "3. umpire\n",
    "4. play type\n",
    "5. before challenge\n",
    " - Inning\n",
    " - Top/Bottom\n",
    " - Outs\n",
    " - Runners on What base\n",
    " - score differential\n",
    "6. after challenge:\n",
    " - Inning\n",
    " - Top/Bottom\n",
    " - Outs\n",
    " - Runners on What base\n",
    " - score differential\n",
    "7. team vs. general variable"
   ]
  },
  {
   "cell_type": "code",
   "execution_count": null,
   "metadata": {
    "collapsed": false
   },
   "outputs": [],
   "source": [
    "#logistic regression with gridsearch\n",
    "def exp_val(team,day,umpire,play_type,inning1,inning2,half1,half2,outs1,outs2,fb1,fb2,sb1,sb2,tb1,tb2,dif1,dif2,weights=.5):\n",
    "\n",
    "    #finds the potential gain of an overturned call in WPA\n",
    "    gain=abs(win_exp(inning2,half2,fb2,sb2,tb2,outs2,dif2)-win_exp(inning1,half1,fb1,sb1,tb1,outs1,dif1))\n",
    "    \n",
    "    #transforms the input data into a vector to feed into the model\n",
    "    vec=[challenger_dict[team][0],\n",
    "    challenger_dict[team][1], \n",
    "    challenger_dict[team][2],\n",
    "    umpire_dict[umpire][0],\n",
    "    umpire_dict[umpire][1],\n",
    "    umpire_dict[umpire][2],\n",
    "    play_dict[play_type][0],\n",
    "    play_dict[play_type][1],\n",
    "    play_dict[play_type][2],\n",
    "    day_dict[day][0],\n",
    "    day_dict[day][1],\n",
    "    day_dict[day][2],\n",
    "    inning_dict[inning1][0],\n",
    "    inning_dict[inning1][1],\n",
    "    inning_dict[inning1][2]]\n",
    "    \n",
    "    #generates the probability of success, using team tendency\n",
    "    prob=svm.predict_proba(vec)[0][1]\n",
    "    \n",
    "    #generates the probability of success based on general model\n",
    "    prob2=(log_reg2.predict_proba(vec[3:])[0][1])*gen_adj\n",
    "    \n",
    "    #attaches weights to each of the two probabilities\n",
    "    weighted_prob=weights*prob+(1-weights)*prob2\n",
    "    \n",
    "    #multiplies all together to get the expected upside of overturned call\n",
    "    upside=gain*weighted_prob\n",
    "    \n",
    "    #find out how many outs remaining to project downside of call\n",
    "    if half1==1:\n",
    "        remaining=(9-inning1)*6+4+3+3-outs1\n",
    "    else:\n",
    "        remaining=(9-inning1)*6+4+3-outs1\n",
    "    \n",
    "    #downside is number of outs remaining times cost per out\n",
    "    downside=(1-weighted_prob)*remaining*ocpo\n",
    "    \n",
    "    print 'Expected upside:', upside\n",
    "    print 'Expected downside: ', downside\n",
    "    print 'Net Gain: ', upside-downside\n",
    "    return upside"
   ]
  },
  {
   "cell_type": "code",
   "execution_count": null,
   "metadata": {
    "collapsed": false
   },
   "outputs": [],
   "source": [
    "exp_val('TOR',1,'Angel Hernandez','Force play',1,1,1,1,1,0,0,1,0,0,0,0,0,0,0)"
   ]
  },
  {
   "cell_type": "code",
   "execution_count": null,
   "metadata": {
    "collapsed": false
   },
   "outputs": [],
   "source": [
    "svm.predict_proba([challenger_dict['NYN'][0],\n",
    "    challenger_dict['NYN'][1], \n",
    "    challenger_dict['NYN'][2],\n",
    "    umpire_dict[\"Joe West\"][0],\n",
    "    umpire_dict['Joe West'][1],\n",
    "    umpire_dict['Joe West'][2],\n",
    "    play_dict['Force play'][0],\n",
    "    play_dict['Force play'][1],\n",
    "    play_dict['Force play'][2],\n",
    "    day_dict[2][0],\n",
    "    day_dict[2][1],\n",
    "    day_dict[2][2],\n",
    "    inning_dict[1][0],\n",
    "    inning_dict[1][1],\n",
    "    inning_dict[1][2]])[0][1]"
   ]
  },
  {
   "cell_type": "code",
   "execution_count": null,
   "metadata": {
    "collapsed": false
   },
   "outputs": [],
   "source": [
    "inner_merge.play_type.unique()"
   ]
  },
  {
   "cell_type": "code",
   "execution_count": null,
   "metadata": {
    "collapsed": true
   },
   "outputs": [],
   "source": []
  }
 ],
 "metadata": {
  "kernelspec": {
   "display_name": "Python 2",
   "language": "python",
   "name": "python2"
  },
  "language_info": {
   "codemirror_mode": {
    "name": "ipython",
    "version": 2
   },
   "file_extension": ".py",
   "mimetype": "text/x-python",
   "name": "python",
   "nbconvert_exporter": "python",
   "pygments_lexer": "ipython2",
   "version": "2.7.12"
  }
 },
 "nbformat": 4,
 "nbformat_minor": 0
}
